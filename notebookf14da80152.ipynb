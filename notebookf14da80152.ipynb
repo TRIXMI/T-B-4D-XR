{
 "cells": [
  {
   "cell_type": "code",
   "execution_count": 1,
   "id": "e744fecf",
   "metadata": {
    "_cell_guid": "b1076dfc-b9ad-4769-8c92-a6c4dae69d19",
    "_uuid": "8f2839f25d086af736a60e9eeb907d3b93b6e0e5",
    "execution": {
     "iopub.execute_input": "2025-04-27T20:55:14.357639Z",
     "iopub.status.busy": "2025-04-27T20:55:14.357344Z",
     "iopub.status.idle": "2025-04-27T20:55:16.161027Z",
     "shell.execute_reply": "2025-04-27T20:55:16.160408Z"
    },
    "papermill": {
     "duration": 1.808437,
     "end_time": "2025-04-27T20:55:16.162616",
     "exception": false,
     "start_time": "2025-04-27T20:55:14.354179",
     "status": "completed"
    },
    "tags": []
   },
   "outputs": [],
   "source": [
    "# This Python 3 environment comes with many helpful analytics libraries installed\n",
    "# It is defined by the kaggle/python Docker image: https://github.com/kaggle/docker-python\n",
    "# For example, here's several helpful packages to load\n",
    "\n",
    "import numpy as np # linear algebra\n",
    "import pandas as pd # data processing, CSV file I/O (e.g. pd.read_csv)\n",
    "\n",
    "# Input data files are available in the read-only \"../input/\" directory\n",
    "# For example, running this (by clicking run or pressing Shift+Enter) will list all files under the input directory\n",
    "\n",
    "import os\n",
    "for dirname, _, filenames in os.walk('/kaggle/input'):\n",
    "    for filename in filenames:\n",
    "        print(os.path.join(dirname, filename))\n",
    "\n",
    "# You can write up to 20GB to the current directory (/kaggle/working/) that gets preserved as output when you create a version using \"Save & Run All\" \n",
    "# You can also write temporary files to /kaggle/temp/, but they won't be saved outside of the current session"
   ]
  },
  {
   "cell_type": "code",
   "execution_count": 2,
   "id": "497edf7b",
   "metadata": {
    "execution": {
     "iopub.execute_input": "2025-04-27T20:55:16.167120Z",
     "iopub.status.busy": "2025-04-27T20:55:16.166690Z",
     "iopub.status.idle": "2025-04-27T20:55:16.400760Z",
     "shell.execute_reply": "2025-04-27T20:55:16.399806Z"
    },
    "papermill": {
     "duration": 0.238043,
     "end_time": "2025-04-27T20:55:16.402534",
     "exception": false,
     "start_time": "2025-04-27T20:55:16.164491",
     "status": "completed"
    },
    "tags": []
   },
   "outputs": [],
   "source": [
    "from kaggle_secrets import UserSecretsClient\n",
    "user_secrets = UserSecretsClient()\n",
    "user_credential = user_secrets.get_gcloud_credential()\n",
    "user_secrets.set_tensorflow_credential(user_credential)"
   ]
  },
  {
   "cell_type": "markdown",
   "id": "c762e254",
   "metadata": {
    "papermill": {
     "duration": 0.001149,
     "end_time": "2025-04-27T20:55:16.405481",
     "exception": false,
     "start_time": "2025-04-27T20:55:16.404332",
     "status": "completed"
    },
    "tags": []
   },
   "source": [
    "import kagglehub\n",
    "\n",
    "# Download latest version\n",
    "path = kagglehub.model_download(\"tweakingbeatsxr/alienhousemusic/tensorRtLlm/default\")\n",
    "\n",
    "print(\"Path to model files:\", path)"
   ]
  }
 ],
 "metadata": {
  "kaggle": {
   "accelerator": "none",
   "dataSources": [],
   "dockerImageVersionId": 31012,
   "isGpuEnabled": false,
   "isInternetEnabled": true,
   "language": "python",
   "sourceType": "notebook"
  },
  "kernelspec": {
   "display_name": "Python 3",
   "language": "python",
   "name": "python3"
  },
  "language_info": {
   "codemirror_mode": {
    "name": "ipython",
    "version": 3
   },
   "file_extension": ".py",
   "mimetype": "text/x-python",
   "name": "python",
   "nbconvert_exporter": "python",
   "pygments_lexer": "ipython3",
   "version": "3.11.11"
  },
  "papermill": {
   "default_parameters": {},
   "duration": 7.184894,
   "end_time": "2025-04-27T20:55:16.925252",
   "environment_variables": {},
   "exception": null,
   "input_path": "__notebook__.ipynb",
   "output_path": "__notebook__.ipynb",
   "parameters": {},
   "start_time": "2025-04-27T20:55:09.740358",
   "version": "2.6.0"
  }
 },
 "nbformat": 4,
 "nbformat_minor": 5
}
